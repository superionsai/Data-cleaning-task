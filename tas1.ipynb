{
 "cells": [
  {
   "cell_type": "code",
   "execution_count": 47,
   "id": "45e3b313",
   "metadata": {},
   "outputs": [],
   "source": [
    "import pandas as pd\n",
    "import matplotlib.pyplot as plt\n",
    "import seaborn as sns\n",
    "import numpy as np "
   ]
  },
  {
   "cell_type": "code",
   "execution_count": 48,
   "id": "4925f6fe",
   "metadata": {},
   "outputs": [
    {
     "data": {
      "text/html": [
       "<div>\n",
       "<style scoped>\n",
       "    .dataframe tbody tr th:only-of-type {\n",
       "        vertical-align: middle;\n",
       "    }\n",
       "\n",
       "    .dataframe tbody tr th {\n",
       "        vertical-align: top;\n",
       "    }\n",
       "\n",
       "    .dataframe thead th {\n",
       "        text-align: right;\n",
       "    }\n",
       "</style>\n",
       "<table border=\"1\" class=\"dataframe\">\n",
       "  <thead>\n",
       "    <tr style=\"text-align: right;\">\n",
       "      <th></th>\n",
       "      <th>PassengerId</th>\n",
       "      <th>Survived</th>\n",
       "      <th>Pclass</th>\n",
       "      <th>Name</th>\n",
       "      <th>Sex</th>\n",
       "      <th>Age</th>\n",
       "      <th>SibSp</th>\n",
       "      <th>Parch</th>\n",
       "      <th>Ticket</th>\n",
       "      <th>Fare</th>\n",
       "      <th>Cabin</th>\n",
       "      <th>Embarked</th>\n",
       "    </tr>\n",
       "  </thead>\n",
       "  <tbody>\n",
       "    <tr>\n",
       "      <th>0</th>\n",
       "      <td>1</td>\n",
       "      <td>0</td>\n",
       "      <td>3</td>\n",
       "      <td>Braund, Mr. Owen Harris</td>\n",
       "      <td>male</td>\n",
       "      <td>22.0</td>\n",
       "      <td>1</td>\n",
       "      <td>0</td>\n",
       "      <td>A/5 21171</td>\n",
       "      <td>7.2500</td>\n",
       "      <td>NaN</td>\n",
       "      <td>S</td>\n",
       "    </tr>\n",
       "    <tr>\n",
       "      <th>1</th>\n",
       "      <td>2</td>\n",
       "      <td>1</td>\n",
       "      <td>1</td>\n",
       "      <td>Cumings, Mrs. John Bradley (Florence Briggs Th...</td>\n",
       "      <td>female</td>\n",
       "      <td>38.0</td>\n",
       "      <td>1</td>\n",
       "      <td>0</td>\n",
       "      <td>PC 17599</td>\n",
       "      <td>71.2833</td>\n",
       "      <td>C85</td>\n",
       "      <td>C</td>\n",
       "    </tr>\n",
       "  </tbody>\n",
       "</table>\n",
       "</div>"
      ],
      "text/plain": [
       "   PassengerId  Survived  Pclass  \\\n",
       "0            1         0       3   \n",
       "1            2         1       1   \n",
       "\n",
       "                                                Name     Sex   Age  SibSp  \\\n",
       "0                            Braund, Mr. Owen Harris    male  22.0      1   \n",
       "1  Cumings, Mrs. John Bradley (Florence Briggs Th...  female  38.0      1   \n",
       "\n",
       "   Parch     Ticket     Fare Cabin Embarked  \n",
       "0      0  A/5 21171   7.2500   NaN        S  \n",
       "1      0   PC 17599  71.2833   C85        C  "
      ]
     },
     "execution_count": 48,
     "metadata": {},
     "output_type": "execute_result"
    }
   ],
   "source": [
    "df = pd.read_csv('Titanic-Dataset.csv')\n",
    "df.head(2)"
   ]
  },
  {
   "cell_type": "code",
   "execution_count": null,
   "id": "4f501522",
   "metadata": {},
   "outputs": [
    {
     "name": "stdout",
     "output_type": "stream",
     "text": [
      "Sex\n",
      "male      577\n",
      "female    314\n",
      "Name: count, dtype: int64\n",
      "Cabin\n",
      "G6             4\n",
      "C23 C25 C27    4\n",
      "B96 B98        4\n",
      "F2             3\n",
      "D              3\n",
      "              ..\n",
      "E63            1\n",
      "E50            1\n",
      "F G63          1\n",
      "F38            1\n",
      "T              1\n",
      "Name: count, Length: 147, dtype: int64\n",
      "Embarked\n",
      "S    644\n",
      "C    168\n",
      "Q     77\n",
      "Name: count, dtype: int64\n"
     ]
    }
   ],
   "source": [
    "# Name and ticket do not provide useful information for analysis, so we can drop them.\n",
    "df.drop(['Name', 'Ticket'], axis=1, inplace=True)\n",
    "for column in df.columns:\n",
    "    if df[column].dtype == 'object':\n",
    "        df[column] = df[column].astype('category')\n",
    "        print(df[column].value_counts())\n",
    "#No errors found in the dataset other than cabin."
   ]
  },
  {
   "cell_type": "code",
   "execution_count": 54,
   "id": "3828f827",
   "metadata": {},
   "outputs": [
    {
     "name": "stderr",
     "output_type": "stream",
     "text": [
      "C:\\Users\\saisi\\AppData\\Local\\Temp\\ipykernel_30008\\407197967.py:3: SettingWithCopyWarning: \n",
      "A value is trying to be set on a copy of a slice from a DataFrame.\n",
      "Try using .loc[row_indexer,col_indexer] = value instead\n",
      "\n",
      "See the caveats in the documentation: https://pandas.pydata.org/pandas-docs/stable/user_guide/indexing.html#returning-a-view-versus-a-copy\n",
      "  df_filtered['Cabin_letter'] = df_filtered['Cabin'].str[0]\n",
      "C:\\Users\\saisi\\AppData\\Local\\Temp\\ipykernel_30008\\407197967.py:4: SettingWithCopyWarning: \n",
      "A value is trying to be set on a copy of a slice from a DataFrame.\n",
      "Try using .loc[row_indexer,col_indexer] = value instead\n",
      "\n",
      "See the caveats in the documentation: https://pandas.pydata.org/pandas-docs/stable/user_guide/indexing.html#returning-a-view-versus-a-copy\n",
      "  df_filtered['Cabin_number'] = (df_filtered['Cabin'].str[1:3]).astype(int)\n",
      "C:\\Users\\saisi\\AppData\\Local\\Temp\\ipykernel_30008\\407197967.py:5: SettingWithCopyWarning: \n",
      "A value is trying to be set on a copy of a slice from a DataFrame\n",
      "\n",
      "See the caveats in the documentation: https://pandas.pydata.org/pandas-docs/stable/user_guide/indexing.html#returning-a-view-versus-a-copy\n",
      "  df_filtered.drop('Cabin', axis=1, inplace=True)\n"
     ]
    }
   ],
   "source": [
    "#To make changes in columnn Cabin, we will only keep the values with one letter and two digits attached to it.\n",
    "df_filtered = df[df['Cabin'].str.match(r'^[A-Za-z]\\d{2}$', na=False)]\n",
    "df_filtered['Cabin_letter'] = df_filtered['Cabin'].str[0]\n",
    "df_filtered['Cabin_number'] = (df_filtered['Cabin'].str[1:3]).astype(int)\n",
    "df_filtered.drop('Cabin', axis=1, inplace=True)"
   ]
  },
  {
   "cell_type": "code",
   "execution_count": 58,
   "id": "7bf84d88",
   "metadata": {},
   "outputs": [
    {
     "name": "stdout",
     "output_type": "stream",
     "text": [
      "Sex\n",
      "male      68\n",
      "female    60\n",
      "Name: count, dtype: int64\n",
      "Embarked\n",
      "S    72\n",
      "C    51\n",
      "Q     3\n",
      "Name: count, dtype: int64\n"
     ]
    }
   ],
   "source": [
    "for column in df_filtered.columns:\n",
    "    if df_filtered[column].dtype == 'category':\n",
    "        print(df_filtered[column].value_counts())"
   ]
  },
  {
   "cell_type": "code",
   "execution_count": 59,
   "id": "cd1069be",
   "metadata": {},
   "outputs": [
    {
     "name": "stdout",
     "output_type": "stream",
     "text": [
      "0 missing values in PassengerId\n",
      "0 missing values in Survived\n",
      "0 missing values in Pclass\n",
      "0 missing values in Sex\n",
      "12 missing values in Age\n",
      "0 missing values in SibSp\n",
      "0 missing values in Parch\n",
      "0 missing values in Fare\n",
      "2 missing values in Embarked\n",
      "0 missing values in Cabin_letter\n",
      "0 missing values in Cabin_number\n"
     ]
    }
   ],
   "source": [
    "#Finding the missing values in each column of the dataset\n",
    "for column in df_filtered.columns:\n",
    "    print(df_filtered[column].isnull().sum(), \"missing values in\", column)"
   ]
  },
  {
   "cell_type": "code",
   "execution_count": 60,
   "id": "e359d0d8",
   "metadata": {},
   "outputs": [
    {
     "name": "stderr",
     "output_type": "stream",
     "text": [
      "C:\\Users\\saisi\\AppData\\Local\\Temp\\ipykernel_30008\\1972377803.py:3: FutureWarning: A value is trying to be set on a copy of a DataFrame or Series through chained assignment using an inplace method.\n",
      "The behavior will change in pandas 3.0. This inplace method will never work because the intermediate object on which we are setting values always behaves as a copy.\n",
      "\n",
      "For example, when doing 'df[col].method(value, inplace=True)', try using 'df.method({col: value}, inplace=True)' or df[col] = df[col].method(value) instead, to perform the operation inplace on the original object.\n",
      "\n",
      "\n",
      "  df_filtered['Age'].fillna(df_filtered['Age'].mean(), inplace=True)\n",
      "C:\\Users\\saisi\\AppData\\Local\\Temp\\ipykernel_30008\\1972377803.py:3: SettingWithCopyWarning: \n",
      "A value is trying to be set on a copy of a slice from a DataFrame\n",
      "\n",
      "See the caveats in the documentation: https://pandas.pydata.org/pandas-docs/stable/user_guide/indexing.html#returning-a-view-versus-a-copy\n",
      "  df_filtered['Age'].fillna(df_filtered['Age'].mean(), inplace=True)\n",
      "C:\\Users\\saisi\\AppData\\Local\\Temp\\ipykernel_30008\\1972377803.py:4: SettingWithCopyWarning: \n",
      "A value is trying to be set on a copy of a slice from a DataFrame\n",
      "\n",
      "See the caveats in the documentation: https://pandas.pydata.org/pandas-docs/stable/user_guide/indexing.html#returning-a-view-versus-a-copy\n",
      "  df_filtered.dropna(subset=['Embarked'], inplace=True)\n"
     ]
    },
    {
     "data": {
      "text/plain": [
       "PassengerId     0\n",
       "Survived        0\n",
       "Pclass          0\n",
       "Sex             0\n",
       "Age             0\n",
       "SibSp           0\n",
       "Parch           0\n",
       "Fare            0\n",
       "Embarked        0\n",
       "Cabin_letter    0\n",
       "Cabin_number    0\n",
       "dtype: int64"
      ]
     },
     "execution_count": 60,
     "metadata": {},
     "output_type": "execute_result"
    }
   ],
   "source": [
    "#We shall fill the missing values in the 'Age' column with the mean of age and delete the missing rows in 'Embarked' column\n",
    "#2 is negligible compared to the total number of rows\n",
    "df_filtered['Age'].fillna(df_filtered['Age'].mean(), inplace=True)\n",
    "df_filtered.dropna(subset=['Embarked'], inplace=True)\n",
    "df_filtered.isnull().sum()"
   ]
  },
  {
   "cell_type": "code",
   "execution_count": null,
   "id": "c6c05ecb",
   "metadata": {},
   "outputs": [],
   "source": [
    "import \n",
    "for column in df.columns:\n",
    "    if df[column].dtype == 'category':\n",
    "        "
   ]
  }
 ],
 "metadata": {
  "kernelspec": {
   "display_name": "Python 3",
   "language": "python",
   "name": "python3"
  },
  "language_info": {
   "codemirror_mode": {
    "name": "ipython",
    "version": 3
   },
   "file_extension": ".py",
   "mimetype": "text/x-python",
   "name": "python",
   "nbconvert_exporter": "python",
   "pygments_lexer": "ipython3",
   "version": "3.13.2"
  }
 },
 "nbformat": 4,
 "nbformat_minor": 5
}
